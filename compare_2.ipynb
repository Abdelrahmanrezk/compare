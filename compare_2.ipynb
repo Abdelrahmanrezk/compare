{
 "cells": [
  {
   "cell_type": "code",
   "execution_count": 1,
   "id": "0d807c2a",
   "metadata": {},
   "outputs": [
    {
     "name": "stderr",
     "output_type": "stream",
     "text": [
      "/usr/lib/python3/dist-packages/requests/__init__.py:89: RequestsDependencyWarning: urllib3 (1.26.9) or chardet (3.0.4) doesn't match a supported version!\n",
      "  warnings.warn(\"urllib3 ({}) or chardet ({}) doesn't match a supported \"\n"
     ]
    }
   ],
   "source": [
    "import gensim\n",
    "from sklearn.decomposition import PCA\n",
    "from bidi.algorithm import get_display\n",
    "import matplotlib.pyplot as plt\n",
    "from sklearn.manifold import TSNE\n",
    "import arabic_reshaper\n",
    "import pandas as pd\n",
    "from word2vec_results import *"
   ]
  },
  {
   "cell_type": "code",
   "execution_count": 2,
   "id": "4d6d8ecb",
   "metadata": {},
   "outputs": [],
   "source": [
    "rezk_model = gensim.models.Word2Vec.load(\"Twittert-CBOW/fullgram/CBOW_space_300/min_count_100/window_3/continuous_bow_fullgram_vec_size_300-d_min_count_100\")"
   ]
  },
  {
   "cell_type": "code",
   "execution_count": 3,
   "id": "6b4a573b",
   "metadata": {},
   "outputs": [
    {
     "name": "stdout",
     "output_type": "stream",
     "text": [
      "The number of words the model learn from your dataset are: 2027042\n",
      "['.', '._.', 'و', ':', 'رابطويب', 'في', '._رابطويب', '._._رابطويب', 'من', 'حسابشخصي', 'علي', 'ا', ')', '._._.', '(', 'ان', 'ا_.', '!', 'الله', 'ا_._.', ',', '-', 'ما', 'ب', '؟', 'ف', 'عن', 'الي', 'لا', 'ع', 'مع', ':_)', 'ب_)', 'انا', 'يا', ')_-', 'ب_)_-', '(_ا', 'اليوم', 'ا_ف', '(_ا_ف', 'ا_ف_ب', 'ف_ب', 'ف_ب_)', '&', ';', 'بعد', 'كل', 'مقتل', 'بين', '!_!', 'م', '،', 'غزه', 'اللي', '._و', '/', 'بس', 'رئيس', 'م_.', 'الرئيس', 'م_._.', '._._و', 'بي', 'قطره', 'قطره_:', 'ل', 'العراق', 'و_لا', 'ب_.', 'ب_._.', 'اي', 'هذا', 'ضد', 'جديد', 'فيه', 'يوم', 'و_.', 'و_._.', 'الا', 'هو', '#', 'الجيش', 'المتحده', 'لبنان', ';_&', 'ف_.', 'اسرائيل', 'انه', 'ف_._.', 'كان', 'اذا', 'السلام', 'الحكومه', 'لـ', 'ل_.', 'قال', ':_(', '&_#', 'لك']\n"
     ]
    }
   ],
   "source": [
    "vocabs = list(rezk_model.wv.index_to_key)\n",
    "print(\"The number of words the model learn from your dataset are:\", len(vocabs))\n",
    "print(vocabs[:100])"
   ]
  },
  {
   "cell_type": "code",
   "execution_count": 4,
   "id": "81fadd0d",
   "metadata": {},
   "outputs": [
    {
     "data": {
      "text/plain": [
       "[('المنصوره', 0.8620675802230835),\n",
       " ('الزقازيق', 0.7875745892524719),\n",
       " ('اسكندريه', 0.7411830425262451),\n",
       " ('اسيوط', 0.7398534417152405),\n",
       " ('المنوفيه', 0.7239159941673279),\n",
       " ('المنيا', 0.7057349681854248),\n",
       " ('دمنهور', 0.6983345150947571),\n",
       " ('القاهره', 0.6881973743438721),\n",
       " ('دمياط', 0.6874301433563232),\n",
       " ('حلوان', 0.6631385087966919)]"
      ]
     },
     "execution_count": 4,
     "metadata": {},
     "output_type": "execute_result"
    }
   ],
   "source": [
    "rezk_model.wv.most_similar('طنطا')"
   ]
  },
  {
   "cell_type": "code",
   "execution_count": 5,
   "id": "e51bc605",
   "metadata": {},
   "outputs": [
    {
     "data": {
      "text/plain": [
       "[('بفندق', 0.6959010362625122),\n",
       " ('الفندق', 0.6875008940696716),\n",
       " ('منتجع', 0.6816150546073914),\n",
       " ('وفندق', 0.6477185487747192),\n",
       " ('شاليه', 0.6472563147544861),\n",
       " ('فنادق', 0.6468909978866577),\n",
       " ('مول', 0.639947772026062),\n",
       " ('مطل', 0.5941099524497986),\n",
       " ('شقه', 0.5838247537612915),\n",
       " ('مطعم', 0.5816810727119446)]"
      ]
     },
     "execution_count": 5,
     "metadata": {},
     "output_type": "execute_result"
    }
   ],
   "source": [
    "rezk_model.wv.most_similar('فندق')"
   ]
  },
  {
   "cell_type": "code",
   "execution_count": 6,
   "id": "d19bdb14",
   "metadata": {},
   "outputs": [
    {
     "data": {
      "text/plain": [
       "[('ملكه', 0.4930158853530884),\n",
       " ('الملكه', 0.3743601143360138),\n",
       " ('لملك', 0.36380499601364136),\n",
       " ('مستعمره', 0.35215845704078674),\n",
       " ('عرش', 0.3518524467945099),\n",
       " ('لقبها', 0.3472043573856354),\n",
       " ('وعايشه', 0.3448868691921234),\n",
       " ('وهي', 0.34364351630210876),\n",
       " ('وملكه', 0.34195131063461304),\n",
       " ('وملك', 0.3394363224506378)]"
      ]
     },
     "execution_count": 6,
     "metadata": {},
     "output_type": "execute_result"
    }
   ],
   "source": [
    "rezk_model.wv.most_similar(positive=['ملك', 'امراءه'], negative=['رجل'])"
   ]
  },
  {
   "cell_type": "code",
   "execution_count": 7,
   "id": "4c9c8ec1",
   "metadata": {},
   "outputs": [
    {
     "data": {
      "text/plain": [
       "[('😆', 0.8333120942115784),\n",
       " ('😁', 0.8321138024330139),\n",
       " ('😜', 0.8205730319023132),\n",
       " ('😏', 0.819418728351593),\n",
       " ('😅', 0.8010570406913757),\n",
       " ('😒', 0.7967824339866638),\n",
       " ('هه', 0.7967004776000977),\n",
       " ('😂', 0.7781848907470703),\n",
       " ('😬', 0.7624844312667847),\n",
       " ('😀', 0.7618412375450134)]"
      ]
     },
     "execution_count": 7,
     "metadata": {},
     "output_type": "execute_result"
    }
   ],
   "source": [
    "rezk_model.wv.most_similar('🤣')"
   ]
  },
  {
   "cell_type": "code",
   "execution_count": 8,
   "id": "0bfa0431",
   "metadata": {},
   "outputs": [
    {
     "data": {
      "text/plain": [
       "[('🇴🇲', 0.6610525846481323),\n",
       " ('العيد_الوطني_الكويتي', 0.6014205813407898),\n",
       " ('اليوم_الوطني_الكويتي', 0.5943148732185364),\n",
       " ('🇦🇪', 0.5859056711196899),\n",
       " ('الكويت', 0.5772003531455994),\n",
       " ('🇸🇦', 0.5617915987968445),\n",
       " ('🇶🇦', 0.5346092581748962),\n",
       " ('عمان', 0.5341886281967163),\n",
       " ('🇯🇴', 0.5333636999130249),\n",
       " ('الحبيبه', 0.5255107283592224)]"
      ]
     },
     "execution_count": 8,
     "metadata": {},
     "output_type": "execute_result"
    }
   ],
   "source": [
    "rezk_model.wv.most_similar('🇰🇼')"
   ]
  },
  {
   "cell_type": "code",
   "execution_count": 9,
   "id": "b37a28a1",
   "metadata": {},
   "outputs": [
    {
     "data": {
      "text/plain": [
       "[('🗓', 0.8217021226882935),\n",
       " ('🗓️', 0.7684130668640137),\n",
       " ('📅', 0.7220921516418457),\n",
       " ('الموافق', 0.7047532200813293),\n",
       " ('الثلاثاء', 0.6295244097709656),\n",
       " ('الاربعاء', 0.6129141449928284),\n",
       " ('مارس', 0.5877199769020081),\n",
       " ('مايو', 0.5591866970062256),\n",
       " ('المصادف', 0.558221161365509),\n",
       " ('/', 0.5580501556396484)]"
      ]
     },
     "execution_count": 9,
     "metadata": {},
     "output_type": "execute_result"
    }
   ],
   "source": [
    "rezk_model.wv.most_similar('📆')"
   ]
  },
  {
   "cell_type": "code",
   "execution_count": 10,
   "id": "01529267",
   "metadata": {},
   "outputs": [
    {
     "data": {
      "text/plain": [
       "[('ميموريز', 0.5878340005874634),\n",
       " ('الميموري', 0.5749548077583313),\n",
       " ('اكونت', 0.5458765029907227),\n",
       " ('هنزلها', 0.49145182967185974),\n",
       " ('الانستجرام', 0.48806169629096985),\n",
       " ('انستجرام', 0.4866439700126648),\n",
       " ('ابليكشن', 0.4857732951641083),\n",
       " ('الميموريز', 0.4829240143299103),\n",
       " ('ابلكيشن', 0.47917672991752625),\n",
       " ('بوست', 0.47330009937286377)]"
      ]
     },
     "execution_count": 10,
     "metadata": {},
     "output_type": "execute_result"
    }
   ],
   "source": [
    "rezk_model.wv.most_similar('ميموري')"
   ]
  },
  {
   "cell_type": "code",
   "execution_count": 11,
   "id": "07f7695b",
   "metadata": {},
   "outputs": [
    {
     "data": {
      "text/plain": [
       "[('B_+', 0.4929687976837158),\n",
       " ('C_+', 0.4022066295146942),\n",
       " ('ا_+', 0.3840295076370239),\n",
       " ('A_1', 0.3682516813278198),\n",
       " ('A_-', 0.35698291659355164),\n",
       " ('O_+', 0.35411107540130615),\n",
       " ('حسابشخصي_+', 0.3405040204524994),\n",
       " ('الحلقه_الجايه', 0.3359083831310272),\n",
       " (')_+', 0.324415385723114),\n",
       " ('18_+', 0.31797125935554504)]"
      ]
     },
     "execution_count": 11,
     "metadata": {},
     "output_type": "execute_result"
    }
   ],
   "source": [
    "rezk_model.wv.most_similar('A_+')"
   ]
  },
  {
   "cell_type": "code",
   "execution_count": 12,
   "id": "913b5b5f",
   "metadata": {},
   "outputs": [
    {
     "data": {
      "text/plain": [
       "[('📍', 0.4250869154930115),\n",
       " ('للبيع', 0.4209286570549011),\n",
       " ('سكني', 0.4186895489692688),\n",
       " ('بالرياض', 0.40717217326164246),\n",
       " ('عقارات_الرياض', 0.39545679092407227),\n",
       " ('🎯', 0.3946106731891632),\n",
       " ('فلل', 0.39185914397239685),\n",
       " ('شقه', 0.3904934823513031),\n",
       " ('دوبلكس', 0.3842267692089081),\n",
       " ('المونسيه', 0.381411612033844)]"
      ]
     },
     "execution_count": 12,
     "metadata": {},
     "output_type": "execute_result"
    }
   ],
   "source": [
    "rezk_model.wv.most_similar('🏡')"
   ]
  },
  {
   "cell_type": "code",
   "execution_count": 13,
   "id": "c45dfa55",
   "metadata": {},
   "outputs": [
    {
     "data": {
      "text/plain": [
       "[('تخصص', 0.5229156017303467),\n",
       " ('دبلوم', 0.5104511380195618),\n",
       " ('هندسه', 0.5050167441368103),\n",
       " ('HR', 0.4961112439632416),\n",
       " ('تخصصات', 0.49260127544403076),\n",
       " ('Design', 0.4920426309108734),\n",
       " ('science', 0.48735666275024414),\n",
       " ('english', 0.483235627412796),\n",
       " ('تخصصي', 0.4781688153743744),\n",
       " ('web', 0.4774109125137329)]"
      ]
     },
     "execution_count": 13,
     "metadata": {},
     "output_type": "execute_result"
    }
   ],
   "source": [
    "rezk_model.wv.most_similar('IT')"
   ]
  },
  {
   "cell_type": "code",
   "execution_count": 14,
   "id": "cbd0b18d",
   "metadata": {},
   "outputs": [
    {
     "data": {
      "text/plain": [
       "[('مفتاح', 0.4421654939651489),\n",
       " ('🗝', 0.38557443022727966),\n",
       " ('🎯', 0.3628891706466675),\n",
       " ('🅰️', 0.34200042486190796),\n",
       " ('#_كلبه_مطيعه', 0.3347412347793579),\n",
       " ('المفتاح', 0.3305990993976593),\n",
       " ('♾', 0.32080593705177307),\n",
       " ('◉', 0.3206290006637573),\n",
       " ('✅', 0.3132442533969879),\n",
       " ('مفاتيح', 0.31249940395355225)]"
      ]
     },
     "execution_count": 14,
     "metadata": {},
     "output_type": "execute_result"
    }
   ],
   "source": [
    "rezk_model.wv.most_similar('🔑')"
   ]
  },
  {
   "cell_type": "code",
   "execution_count": 15,
   "id": "0fb4d9f1",
   "metadata": {},
   "outputs": [
    {
     "data": {
      "text/plain": [
       "[('🤔', 0.7987214922904968),\n",
       " ('!', 0.7966918349266052),\n",
       " ('ايش', 0.6314217448234558),\n",
       " ('😳', 0.6253553032875061),\n",
       " ('🙄', 0.6185094714164734),\n",
       " ('ليش', 0.60459965467453),\n",
       " ('هل', 0.5959916114807129),\n",
       " ('بالضبط', 0.5893946886062622),\n",
       " ('وليش', 0.5871163606643677),\n",
       " ('وين', 0.5863702893257141)]"
      ]
     },
     "execution_count": 15,
     "metadata": {},
     "output_type": "execute_result"
    }
   ],
   "source": [
    "rezk_model.wv.most_similar('؟')"
   ]
  },
  {
   "cell_type": "code",
   "execution_count": 16,
   "id": "7c174905",
   "metadata": {},
   "outputs": [
    {
     "name": "stdout",
     "output_type": "stream",
     "text": [
      "The number of emojis:  48\n",
      "The number of sentiment words:  19\n",
      "The number of named entity recognition words 65\n"
     ]
    }
   ],
   "source": [
    "print(\"The number of emojis: \", len(EMOJIS))\n",
    "print(\"The number of sentiment words: \", len(SENTIMENT_WORDS))\n",
    "print(\"The number of named entity recognition words\", len(NER_WORDS))"
   ]
  },
  {
   "cell_type": "code",
   "execution_count": 17,
   "id": "f2ea6201",
   "metadata": {},
   "outputs": [
    {
     "name": "stdout",
     "output_type": "stream",
     "text": [
      "[t-SNE] Computing 18 nearest neighbors...\n",
      "[t-SNE] Indexed 19 samples in 0.000s...\n",
      "[t-SNE] Computed neighbors for 19 samples in 0.001s...\n",
      "[t-SNE] Computed conditional probabilities for sample 19 / 19\n",
      "[t-SNE] Mean sigma: 3.651945\n",
      "[t-SNE] KL divergence after 100 iterations with early exaggeration: 28.485743\n",
      "[t-SNE] KL divergence after 150 iterations: 0.488962\n",
      "The shape of our word_features is: (19, 2)\n"
     ]
    },
    {
     "name": "stderr",
     "output_type": "stream",
     "text": [
      "/usr/local/lib/python3.8/dist-packages/sklearn/manifold/_t_sne.py:780: FutureWarning: The default initialization in TSNE will change from 'random' to 'pca' in 1.2.\n",
      "  warnings.warn(\n"
     ]
    },
    {
     "data": {
      "image/png": "[encoded data removed]",
      "text/plain": [
       "<Figure size 720x576 with 1 Axes>"
      ]
     },
     "metadata": {},
     "output_type": "display_data"
    }
   ],
   "source": [
    "# Reduce the dimension of SENTIMENT_WORDS\n",
    "tsne_df_scale = tsne_graph(rezk_model, SENTIMENT_WORDS, 500, .03)\n",
    "\n",
    "_ = init_graph_style()\n",
    "\n",
    "_ = word_display(tsne_df_scale, SENTIMENT_WORDS, \"SENTIMENT_WORDS.png\")"
   ]
  },
  {
   "cell_type": "code",
   "execution_count": 18,
   "id": "b7ce87b0",
   "metadata": {},
   "outputs": [
    {
     "name": "stderr",
     "output_type": "stream",
     "text": [
      "/usr/local/lib/python3.8/dist-packages/sklearn/manifold/_t_sne.py:780: FutureWarning: The default initialization in TSNE will change from 'random' to 'pca' in 1.2.\n",
      "  warnings.warn(\n"
     ]
    },
    {
     "name": "stdout",
     "output_type": "stream",
     "text": [
      "[t-SNE] Computing 31 nearest neighbors...\n",
      "[t-SNE] Indexed 65 samples in 0.000s...\n",
      "[t-SNE] Computed neighbors for 65 samples in 0.001s...\n",
      "[t-SNE] Computed conditional probabilities for sample 65 / 65\n",
      "[t-SNE] Mean sigma: 2.998677\n",
      "[t-SNE] KL divergence after 200 iterations with early exaggeration: 49.409805\n",
      "[t-SNE] KL divergence after 1400 iterations: 0.251184\n",
      "The shape of our word_features is: (65, 2)\n"
     ]
    },
    {
     "data": {
      "image/png": "[encoded data removed]",
      "text/plain": [
       "<Figure size 1152x720 with 1 Axes>"
      ]
     },
     "metadata": {},
     "output_type": "display_data"
    }
   ],
   "source": [
    "# Reduce the dimension of NER_WORDS\n",
    "tsne_df_scale = tsne_graph(rezk_model, NER_WORDS, 1400, .03)\n",
    "\n",
    "_ = init_graph_style(figsize=(16, 10))\n",
    "\n",
    "_ = word_display(tsne_df_scale, NER_WORDS, \"NER_WORDS.png\")"
   ]
  },
  {
   "cell_type": "code",
   "execution_count": null,
   "id": "4a9d7b82",
   "metadata": {},
   "outputs": [],
   "source": []
  }
 ],
 "metadata": {
  "kernelspec": {
   "display_name": "Python 3 (ipykernel)",
   "language": "python",
   "name": "python3"
  },
  "language_info": {
   "codemirror_mode": {
    "name": "ipython",
    "version": 3
   },
   "file_extension": ".py",
   "mimetype": "text/x-python",
   "name": "python",
   "nbconvert_exporter": "python",
   "pygments_lexer": "ipython3",
   "version": "3.8.10"
  }
 },
 "nbformat": 4,
 "nbformat_minor": 5
}
