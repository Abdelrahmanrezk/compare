{
 "cells": [
  {
   "cell_type": "code",
   "execution_count": null,
   "id": "91e070e7",
   "metadata": {},
   "outputs": [],
   "source": [
    "# This is initialization for server"
   ]
  },
  {
   "cell_type": "code",
   "execution_count": null,
   "id": "19533f1e",
   "metadata": {},
   "outputs": [],
   "source": [
    "# !pip3 install twarc\n",
    "# !pip3 install twint\n",
    "# !pip3 install urllib3\n",
    "# !pip3 install gensim\n",
    "# !pip3 install nltk\n",
    "# !pip3 install pycld2\n",
    "# !pip3 install googletrans\n",
    "# !pip3 install emojis\n",
    "# !pip3 install emosent-py\n",
    "# !pip3 install spacy_langdetect\n",
    "\n",
    "# !pip3 install spacy\n",
    "# !pip3 install sklearn\n",
    "# !pip3 install python-bidi\n",
    "# !pip3 install matplotlib\n",
    "# !pip3 install arabic-reshaper\n",
    "# !pip3 install gdown"
   ]
  },
  {
   "cell_type": "code",
   "execution_count": null,
   "id": "5a7d11bf",
   "metadata": {},
   "outputs": [],
   "source": [
    "!pip install gdown"
   ]
  },
  {
   "cell_type": "code",
   "execution_count": null,
   "id": "bff9d6d5",
   "metadata": {},
   "outputs": [],
   "source": [
    "import gdown"
   ]
  },
  {
   "cell_type": "code",
   "execution_count": null,
   "id": "f1fc4100",
   "metadata": {},
   "outputs": [],
   "source": [
    "url = \"https://bakrianoo.ewr1.vultrobjects.com/aravec/full_grams_sg_300_twitter.zip\"\n",
    "output = \"full_grams_sg_300_twitter.zip\"\n",
    "gdown.download(url, output)"
   ]
  },
  {
   "cell_type": "code",
   "execution_count": null,
   "id": "303cab34",
   "metadata": {},
   "outputs": [],
   "source": [
    "url = \"https://drive.google.com/u/2/uc?id=1vby7UzVk1ocIdJlWBNdi8R5dY2np_rNS&export=download\"\n",
    "output = \"server_3.zip\"\n",
    "gdown.download(url, output)"
   ]
  }
 ],
 "metadata": {
  "kernelspec": {
   "display_name": "Python 3",
   "language": "python",
   "name": "python3"
  },
  "language_info": {
   "codemirror_mode": {
    "name": "ipython",
    "version": 3
   },
   "file_extension": ".py",
   "mimetype": "text/x-python",
   "name": "python",
   "nbconvert_exporter": "python",
   "pygments_lexer": "ipython3",
   "version": "3.9.7"
  }
 },
 "nbformat": 4,
 "nbformat_minor": 5
}
